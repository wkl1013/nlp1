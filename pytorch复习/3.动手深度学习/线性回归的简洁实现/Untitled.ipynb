{
 "cells": [
  {
   "cell_type": "markdown",
   "id": "24eee92b",
   "metadata": {},
   "source": [
    "# 生成数据集"
   ]
  },
  {
   "cell_type": "code",
   "execution_count": 1,
   "id": "81dd474e",
   "metadata": {},
   "outputs": [],
   "source": [
    "import torch\n",
    "import numpy as np\n",
    "import random\n",
    "import matplotlib.pyplot as plt\n",
    "from IPython import display\n",
    "%matplotlib inline"
   ]
  },
  {
   "cell_type": "code",
   "execution_count": 2,
   "id": "9aba6e0c",
   "metadata": {},
   "outputs": [],
   "source": [
    "num_inputs = 2"
   ]
  },
  {
   "cell_type": "code",
   "execution_count": 3,
   "id": "9d900b31",
   "metadata": {},
   "outputs": [],
   "source": [
    "num_example = 1000"
   ]
  },
  {
   "cell_type": "code",
   "execution_count": 4,
   "id": "a4f476a1",
   "metadata": {},
   "outputs": [],
   "source": [
    "true_w = [2,-3.4]"
   ]
  },
  {
   "cell_type": "code",
   "execution_count": 5,
   "id": "f362bfe0",
   "metadata": {},
   "outputs": [],
   "source": [
    "true_b = 4.2"
   ]
  },
  {
   "cell_type": "code",
   "execution_count": 6,
   "id": "84158f9d",
   "metadata": {},
   "outputs": [],
   "source": [
    "features = torch.tensor(np.random.normal(0,1,(num_example,num_inputs)),dtype=torch.float)"
   ]
  },
  {
   "cell_type": "code",
   "execution_count": 7,
   "id": "c2627440",
   "metadata": {},
   "outputs": [],
   "source": [
    "labels = true_w[0]*features[:,0]+true_w[1]*features[:,1]+true_b"
   ]
  },
  {
   "cell_type": "code",
   "execution_count": 8,
   "id": "dad1d21f",
   "metadata": {},
   "outputs": [],
   "source": [
    "labels += torch.tensor(np.random.normal(0,\n",
    "                                        0.01,\n",
    "                                        size = labels.size()),\n",
    "                                        dtype = torch.float)"
   ]
  },
  {
   "cell_type": "markdown",
   "id": "9cd3da37",
   "metadata": {},
   "source": [
    "# 读取数据"
   ]
  },
  {
   "cell_type": "code",
   "execution_count": 9,
   "id": "5c5cfaae",
   "metadata": {},
   "outputs": [],
   "source": [
    "import torch.utils.data as data"
   ]
  },
  {
   "cell_type": "code",
   "execution_count": 12,
   "id": "16997d7c",
   "metadata": {},
   "outputs": [],
   "source": [
    "BATCH_SIZE = 10"
   ]
  },
  {
   "cell_type": "code",
   "execution_count": 14,
   "id": "bc41d37b",
   "metadata": {},
   "outputs": [],
   "source": [
    "dataset = data.TensorDataset(features,labels)"
   ]
  },
  {
   "cell_type": "code",
   "execution_count": 15,
   "id": "da5064c0",
   "metadata": {},
   "outputs": [],
   "source": [
    "data_iter = data.DataLoader(\n",
    "    dataset,\n",
    "    batch_size=BATCH_SIZE,\n",
    "    shuffle=True\n",
    ")"
   ]
  },
  {
   "cell_type": "code",
   "execution_count": 16,
   "id": "8454e678",
   "metadata": {},
   "outputs": [
    {
     "name": "stdout",
     "output_type": "stream",
     "text": [
      "tensor([[-0.2547, -1.7871],\n",
      "        [ 0.7108, -1.9458],\n",
      "        [ 1.1240,  1.1959],\n",
      "        [ 1.2838,  1.2722],\n",
      "        [-0.0868, -2.4545],\n",
      "        [-0.2370, -0.4018],\n",
      "        [-0.3128,  1.3314],\n",
      "        [-0.5630,  1.6093],\n",
      "        [-0.5308,  0.0363],\n",
      "        [ 1.1915,  1.2779]]) tensor([ 9.7513, 12.2313,  2.3554,  2.4460, 12.3738,  5.0882, -0.9602, -2.3878,\n",
      "         3.0186,  2.2250])\n"
     ]
    }
   ],
   "source": [
    "for X, y in data_iter:\n",
    "    print(X, y)\n",
    "    break"
   ]
  },
  {
   "cell_type": "code",
   "execution_count": 17,
   "id": "91c357e9",
   "metadata": {},
   "outputs": [],
   "source": [
    "import torch.nn as nn"
   ]
  },
  {
   "cell_type": "code",
   "execution_count": 20,
   "id": "f5b59a9d",
   "metadata": {},
   "outputs": [],
   "source": [
    "class LinearNet(nn.Module):\n",
    "    def __init__(self,n_feature):\n",
    "        super(LinearNet, self).__init__()\n",
    "        self.linear = nn.Linear(n_feature, 1)\n",
    "    \n",
    "    def forward(self, x):\n",
    "        y = self.linear(x)\n",
    "        return y"
   ]
  },
  {
   "cell_type": "code",
   "execution_count": 21,
   "id": "a21151c3",
   "metadata": {},
   "outputs": [],
   "source": [
    "net = LinearNet(num_inputs)"
   ]
  },
  {
   "cell_type": "code",
   "execution_count": 22,
   "id": "ab3f866c",
   "metadata": {},
   "outputs": [
    {
     "data": {
      "text/plain": [
       "LinearNet(\n",
       "  (linear): Linear(in_features=2, out_features=1, bias=True)\n",
       ")"
      ]
     },
     "execution_count": 22,
     "metadata": {},
     "output_type": "execute_result"
    }
   ],
   "source": [
    "net"
   ]
  },
  {
   "cell_type": "code",
   "execution_count": null,
   "id": "d8f17fc7",
   "metadata": {},
   "outputs": [],
   "source": []
  }
 ],
 "metadata": {
  "kernelspec": {
   "display_name": "Python 3 (ipykernel)",
   "language": "python",
   "name": "python3"
  },
  "language_info": {
   "codemirror_mode": {
    "name": "ipython",
    "version": 3
   },
   "file_extension": ".py",
   "mimetype": "text/x-python",
   "name": "python",
   "nbconvert_exporter": "python",
   "pygments_lexer": "ipython3",
   "version": "3.9.7"
  },
  "toc": {
   "base_numbering": 1,
   "nav_menu": {},
   "number_sections": true,
   "sideBar": true,
   "skip_h1_title": false,
   "title_cell": "Table of Contents",
   "title_sidebar": "Contents",
   "toc_cell": false,
   "toc_position": {},
   "toc_section_display": true,
   "toc_window_display": false
  },
  "varInspector": {
   "cols": {
    "lenName": 16,
    "lenType": 16,
    "lenVar": 40
   },
   "kernels_config": {
    "python": {
     "delete_cmd_postfix": "",
     "delete_cmd_prefix": "del ",
     "library": "var_list.py",
     "varRefreshCmd": "print(var_dic_list())"
    },
    "r": {
     "delete_cmd_postfix": ") ",
     "delete_cmd_prefix": "rm(",
     "library": "var_list.r",
     "varRefreshCmd": "cat(var_dic_list()) "
    }
   },
   "types_to_exclude": [
    "module",
    "function",
    "builtin_function_or_method",
    "instance",
    "_Feature"
   ],
   "window_display": false
  }
 },
 "nbformat": 4,
 "nbformat_minor": 5
}
