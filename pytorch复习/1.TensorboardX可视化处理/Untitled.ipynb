{
 "cells": [
  {
   "cell_type": "markdown",
   "id": "2714ceea",
   "metadata": {},
   "source": [
    "# 导入需要的模块"
   ]
  },
  {
   "cell_type": "code",
   "execution_count": 3,
   "id": "0b27bcdf",
   "metadata": {},
   "outputs": [],
   "source": [
    "import torch\n",
    "import torch.nn as nn\n",
    "import torch.nn.functional as F\n",
    "import torchvision\n",
    "from torch.utils.tensorboard import SummaryWriter"
   ]
  },
  {
   "cell_type": "markdown",
   "id": "843a43f6",
   "metadata": {},
   "source": [
    "# 构建神经网络"
   ]
  },
  {
   "cell_type": "code",
   "execution_count": 14,
   "id": "da2a0abc",
   "metadata": {},
   "outputs": [],
   "source": [
    "class Net(nn.Module):\n",
    "    def __init__(self):\n",
    "        super(Net,self).__init__()\n",
    "        self.conv1 = nn.Conv2d(1,10,kernel_size=5)\n",
    "        self.conv2 = nn.Conv2d(10,20,kernel_size=5)\n",
    "        self.conv2_drop = nn.Dropout2d()\n",
    "        self.fc1 = nn.Linear(320,50)\n",
    "        self.fc2 = nn.Linear(50,10)\n",
    "        self.bn = nn.BatchNorm2d(20)\n",
    "        \n",
    "    def forward(self,x):\n",
    "        x = F.max_pool2d(self.conv1(x),2)\n",
    "        x = F.relu(x)+F.relu(-x)\n",
    "        x = F.relu(F.max_pool2d(self.conv2_drop(self.conv2(x)),2))\n",
    "        x = self.bn(x)\n",
    "        \n",
    "        x = x.view(-1,320)\n",
    "        x = F.relu(self.fc1(x))\n",
    "        x = F.dropout(x,training=self.training)\n",
    "        x = self.fc2(x)\n",
    "        x = F.softmax(x,dim=1)\n",
    "        return x"
   ]
  },
  {
   "cell_type": "markdown",
   "id": "5cd0328a",
   "metadata": {},
   "source": [
    "# 将模型保存为graph"
   ]
  },
  {
   "cell_type": "code",
   "execution_count": 15,
   "id": "a8ebeaae",
   "metadata": {},
   "outputs": [],
   "source": [
    "writer = SummaryWriter(log_dir=r'E:\\Notebook\\TensorboardX可视化处理\\logs')"
   ]
  },
  {
   "cell_type": "code",
   "execution_count": 16,
   "id": "0351f136",
   "metadata": {},
   "outputs": [],
   "source": [
    "input = torch.rand(32,1,28,28)"
   ]
  },
  {
   "cell_type": "code",
   "execution_count": 17,
   "id": "3de076e3",
   "metadata": {},
   "outputs": [],
   "source": [
    "model = Net()"
   ]
  },
  {
   "cell_type": "code",
   "execution_count": 19,
   "id": "085dd0ab",
   "metadata": {},
   "outputs": [],
   "source": [
    "writer.add_graph(model,input)"
   ]
  },
  {
   "cell_type": "markdown",
   "id": "436627a9",
   "metadata": {},
   "source": [
    "# 用TensorboardX可视化损失值"
   ]
  },
  {
   "cell_type": "code",
   "execution_count": 20,
   "id": "9483e2c7",
   "metadata": {},
   "outputs": [],
   "source": [
    "dtype = torch.FloatTensor"
   ]
  },
  {
   "cell_type": "code",
   "execution_count": 21,
   "id": "752483eb",
   "metadata": {},
   "outputs": [],
   "source": [
    "writer = SummaryWriter(log_dir='logs/',comment='Linear')"
   ]
  },
  {
   "cell_type": "code",
   "execution_count": 22,
   "id": "b92ec336",
   "metadata": {},
   "outputs": [],
   "source": [
    "np.random.seed(100)"
   ]
  },
  {
   "cell_type": "code",
   "execution_count": 23,
   "id": "2037c217",
   "metadata": {},
   "outputs": [],
   "source": [
    "import numpy as np"
   ]
  },
  {
   "cell_type": "code",
   "execution_count": 24,
   "id": "adfe3ebd",
   "metadata": {},
   "outputs": [],
   "source": [
    "x_train = np.linspace(-1,1,100).reshape(100,1)"
   ]
  },
  {
   "cell_type": "code",
   "execution_count": 26,
   "id": "0df60cdf",
   "metadata": {},
   "outputs": [],
   "source": [
    "y_train = 3*np.power(x_train,2)+2+0.2*np.random.rand(x_train.size).reshape(100,1)"
   ]
  },
  {
   "cell_type": "code",
   "execution_count": 31,
   "id": "aca1e88a",
   "metadata": {},
   "outputs": [],
   "source": [
    "model = nn.Linear(1,1)"
   ]
  },
  {
   "cell_type": "code",
   "execution_count": 32,
   "id": "427f5374",
   "metadata": {},
   "outputs": [],
   "source": [
    "loss_fn = nn.MSELoss()"
   ]
  },
  {
   "cell_type": "code",
   "execution_count": 33,
   "id": "18abbda1",
   "metadata": {},
   "outputs": [],
   "source": [
    "optimizer = torch.optim.SGD(model.parameters(),lr=0.001)"
   ]
  },
  {
   "cell_type": "code",
   "execution_count": 34,
   "id": "1b5e234e",
   "metadata": {},
   "outputs": [],
   "source": [
    "for epoch in range(20):\n",
    "    inputs = torch.from_numpy(x_train).type(dtype)\n",
    "    targets = torch.from_numpy(y_train).type(dtype)\n",
    "    \n",
    "    output = model(inputs)\n",
    "    loss = loss_fn(output,targets)\n",
    "    \n",
    "    optimizer.zero_grad()\n",
    "    loss.backward()\n",
    "    optimizer.step()\n",
    "    \n",
    "    writer.add_scalar('训练损失值',loss,epoch)"
   ]
  },
  {
   "cell_type": "code",
   "execution_count": null,
   "id": "38699a49",
   "metadata": {},
   "outputs": [],
   "source": []
  }
 ],
 "metadata": {
  "kernelspec": {
   "display_name": "Python 3 (ipykernel)",
   "language": "python",
   "name": "python3"
  },
  "language_info": {
   "codemirror_mode": {
    "name": "ipython",
    "version": 3
   },
   "file_extension": ".py",
   "mimetype": "text/x-python",
   "name": "python",
   "nbconvert_exporter": "python",
   "pygments_lexer": "ipython3",
   "version": "3.9.7"
  },
  "toc": {
   "base_numbering": 1,
   "nav_menu": {},
   "number_sections": true,
   "sideBar": true,
   "skip_h1_title": false,
   "title_cell": "Table of Contents",
   "title_sidebar": "Contents",
   "toc_cell": false,
   "toc_position": {},
   "toc_section_display": true,
   "toc_window_display": false
  },
  "varInspector": {
   "cols": {
    "lenName": 16,
    "lenType": 16,
    "lenVar": 40
   },
   "kernels_config": {
    "python": {
     "delete_cmd_postfix": "",
     "delete_cmd_prefix": "del ",
     "library": "var_list.py",
     "varRefreshCmd": "print(var_dic_list())"
    },
    "r": {
     "delete_cmd_postfix": ") ",
     "delete_cmd_prefix": "rm(",
     "library": "var_list.r",
     "varRefreshCmd": "cat(var_dic_list()) "
    }
   },
   "types_to_exclude": [
    "module",
    "function",
    "builtin_function_or_method",
    "instance",
    "_Feature"
   ],
   "window_display": false
  }
 },
 "nbformat": 4,
 "nbformat_minor": 5
}
