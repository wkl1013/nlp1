{
 "cells": [
  {
   "cell_type": "code",
   "execution_count": 1,
   "id": "e98f9640",
   "metadata": {},
   "outputs": [],
   "source": [
    "import torch\n",
    "import torch.nn as nn"
   ]
  },
  {
   "cell_type": "code",
   "execution_count": 2,
   "id": "c79b9211",
   "metadata": {},
   "outputs": [],
   "source": [
    "# 定义LSTM的参数含义: (input_size, hidden_size, num_layers)\n",
    "lstm = torch.nn.LSTM(5, 6, 2)"
   ]
  },
  {
   "cell_type": "code",
   "execution_count": 3,
   "id": "2e6135bb",
   "metadata": {},
   "outputs": [],
   "source": [
    "# 定义输入张量的参数含义: (sequence_length, batch_size, input_size)\n",
    "input = torch.randn(1, 3, 5)"
   ]
  },
  {
   "cell_type": "code",
   "execution_count": 5,
   "id": "3e3d8f58",
   "metadata": {},
   "outputs": [],
   "source": [
    "# 定义隐藏层初始张量和细胞初始状态张量的参数含义:\n",
    "# (num_layers * num_directions, batch_size, hidden_size)\n",
    "h_0 = torch.randn(2, 3, 6)\n",
    "c_0 = torch.randn(2, 3, 6)"
   ]
  },
  {
   "cell_type": "code",
   "execution_count": 6,
   "id": "6ac1f7a0",
   "metadata": {},
   "outputs": [],
   "source": [
    "#output的shape=(seq_length,batch_size,num_directions*hidden_size)\n",
    "#h_n.shape==(num_directions * num_layers,batch,hidden_size)\n",
    "#c_n.shape==h_n.shape\n",
    "#h_n包含的是句子的最后一个单词（也就是最后一个时间步）的隐藏状态，c_n包含的是句子的最后一个单词的细胞状态，所以它们都与句子的长度seq_length无关。\n",
    "output, (h_n, c_n) = lstm(input, (h_0, c_0))"
   ]
  },
  {
   "cell_type": "code",
   "execution_count": 7,
   "id": "f83e61fb",
   "metadata": {},
   "outputs": [
    {
     "data": {
      "text/plain": [
       "torch.Size([1, 3, 6])"
      ]
     },
     "execution_count": 7,
     "metadata": {},
     "output_type": "execute_result"
    }
   ],
   "source": [
    "output.shape"
   ]
  },
  {
   "cell_type": "code",
   "execution_count": 8,
   "id": "bea2a6ad",
   "metadata": {},
   "outputs": [
    {
     "data": {
      "text/plain": [
       "torch.Size([2, 3, 6])"
      ]
     },
     "execution_count": 8,
     "metadata": {},
     "output_type": "execute_result"
    }
   ],
   "source": [
    "h_n.shape"
   ]
  },
  {
   "cell_type": "code",
   "execution_count": 9,
   "id": "112c2311",
   "metadata": {},
   "outputs": [
    {
     "data": {
      "text/plain": [
       "torch.Size([2, 3, 6])"
      ]
     },
     "execution_count": 9,
     "metadata": {},
     "output_type": "execute_result"
    }
   ],
   "source": [
    "c_n.shape"
   ]
  },
  {
   "cell_type": "code",
   "execution_count": null,
   "id": "979f9336",
   "metadata": {},
   "outputs": [],
   "source": []
  },
  {
   "cell_type": "code",
   "execution_count": null,
   "id": "b2de2578",
   "metadata": {},
   "outputs": [],
   "source": []
  },
  {
   "cell_type": "code",
   "execution_count": null,
   "id": "7d72a4aa",
   "metadata": {},
   "outputs": [],
   "source": []
  }
 ],
 "metadata": {
  "kernelspec": {
   "display_name": "Python 3 (ipykernel)",
   "language": "python",
   "name": "python3"
  },
  "language_info": {
   "codemirror_mode": {
    "name": "ipython",
    "version": 3
   },
   "file_extension": ".py",
   "mimetype": "text/x-python",
   "name": "python",
   "nbconvert_exporter": "python",
   "pygments_lexer": "ipython3",
   "version": "3.9.7"
  },
  "toc": {
   "base_numbering": 1,
   "nav_menu": {},
   "number_sections": true,
   "sideBar": true,
   "skip_h1_title": false,
   "title_cell": "Table of Contents",
   "title_sidebar": "Contents",
   "toc_cell": false,
   "toc_position": {},
   "toc_section_display": true,
   "toc_window_display": false
  },
  "varInspector": {
   "cols": {
    "lenName": 16,
    "lenType": 16,
    "lenVar": 40
   },
   "kernels_config": {
    "python": {
     "delete_cmd_postfix": "",
     "delete_cmd_prefix": "del ",
     "library": "var_list.py",
     "varRefreshCmd": "print(var_dic_list())"
    },
    "r": {
     "delete_cmd_postfix": ") ",
     "delete_cmd_prefix": "rm(",
     "library": "var_list.r",
     "varRefreshCmd": "cat(var_dic_list()) "
    }
   },
   "types_to_exclude": [
    "module",
    "function",
    "builtin_function_or_method",
    "instance",
    "_Feature"
   ],
   "window_display": false
  }
 },
 "nbformat": 4,
 "nbformat_minor": 5
}
