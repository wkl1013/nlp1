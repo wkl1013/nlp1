{
 "cells": [
  {
   "cell_type": "markdown",
   "id": "4f1dfaa4",
   "metadata": {},
   "source": [
    "# 传统的RNN模型"
   ]
  },
  {
   "cell_type": "raw",
   "id": "61c9ad65",
   "metadata": {},
   "source": [
    "Pytorch中传统RNN工具的使用:\n",
    "    位置: 在torch.nn工具包之中, 通过torch.nn.RNN可调用."
   ]
  },
  {
   "cell_type": "raw",
   "id": "18071c4b",
   "metadata": {},
   "source": [
    "nn.RNN类初始化主要参数解释:\n",
    "    input_size: 输入张量x中特征维度的大小.\n",
    "    hidden_size: 隐层张量h中特征维度的大小.\n",
    "    num_layers: 隐含层的数量.\n",
    "    nonlinearity: 激活函数的选择, 默认是tanh."
   ]
  },
  {
   "cell_type": "raw",
   "id": "1a7d0400",
   "metadata": {},
   "source": [
    "nn.RNN类实例化对象主要参数解释:\n",
    "    input: 输入张量x.\n",
    "    h0: 初始化的隐层张量h."
   ]
  },
  {
   "cell_type": "code",
   "execution_count": 2,
   "id": "f691d4a2",
   "metadata": {},
   "outputs": [],
   "source": [
    "import torch\n",
    "import torch.nn as nn"
   ]
  },
  {
   "cell_type": "code",
   "execution_count": 3,
   "id": "a24892a2",
   "metadata": {},
   "outputs": [],
   "source": [
    "rnn = nn.RNN(100, 20, 1) #feature_len, hidden_len, num_layer"
   ]
  },
  {
   "cell_type": "code",
   "execution_count": 4,
   "id": "fe0bb957",
   "metadata": {},
   "outputs": [],
   "source": [
    "x = torch.randn(10, 3, 100) #seq_len, batch, feature_len"
   ]
  },
  {
   "cell_type": "code",
   "execution_count": 5,
   "id": "ba20640c",
   "metadata": {},
   "outputs": [],
   "source": [
    "out, h =rnn(x, torch.zeros(1, 3, 20))"
   ]
  },
  {
   "cell_type": "code",
   "execution_count": 6,
   "id": "608b69ec",
   "metadata": {},
   "outputs": [
    {
     "data": {
      "text/plain": [
       "torch.Size([10, 3, 20])"
      ]
     },
     "execution_count": 6,
     "metadata": {},
     "output_type": "execute_result"
    }
   ],
   "source": [
    "#seq_len, batch, hidden_size\n",
    "out.shape"
   ]
  },
  {
   "cell_type": "code",
   "execution_count": 11,
   "id": "58db0e29",
   "metadata": {},
   "outputs": [
    {
     "data": {
      "text/plain": [
       "torch.Size([1, 3, 20])"
      ]
     },
     "execution_count": 11,
     "metadata": {},
     "output_type": "execute_result"
    }
   ],
   "source": [
    "#num_layers, batch, hidden_size\n",
    "h.shape"
   ]
  },
  {
   "cell_type": "markdown",
   "id": "82da4fab",
   "metadata": {},
   "source": [
    "# nn.RNNCell"
   ]
  },
  {
   "cell_type": "raw",
   "id": "213bddaf",
   "metadata": {},
   "source": [
    "   相比一步到位的nn.RNN，也可以使用nn.RNNCell，它将序列上的每个时刻分开来处理。\n",
    "   也就是说，如果要处理的是3个句子，每个句子10个单词，每个单词用长100的向量，那么送入nn.RNN的Tensor的shape就是[10,3,100]。\n",
    "   但如果使用nn.RNNCell，则将每个时刻分开处理，送入的Tensor的shape是[3,100]，但要将此计算单元运行10次。显然这种方式比较麻烦，但使用起来也更灵活"
   ]
  },
  {
   "cell_type": "code",
   "execution_count": 13,
   "id": "0ed47d79",
   "metadata": {},
   "outputs": [],
   "source": [
    "cell = nn.RNNCell(100, 20) #feature_len, hidden_len"
   ]
  },
  {
   "cell_type": "code",
   "execution_count": 14,
   "id": "4b80e3fd",
   "metadata": {},
   "outputs": [],
   "source": [
    "x = torch.randn(3, 100) #batch, feature_len"
   ]
  },
  {
   "cell_type": "code",
   "execution_count": 15,
   "id": "fce2821f",
   "metadata": {},
   "outputs": [],
   "source": [
    "xs = [torch.randn(3, 100) for i in range(10)] #seq_len = 10"
   ]
  },
  {
   "cell_type": "code",
   "execution_count": 16,
   "id": "45ed6691",
   "metadata": {},
   "outputs": [],
   "source": [
    "h = torch.zeros(3, 20) #batch, hidden_len"
   ]
  },
  {
   "cell_type": "code",
   "execution_count": 17,
   "id": "edc41149",
   "metadata": {},
   "outputs": [],
   "source": [
    "for x in xs:\n",
    "    h = cell(x, h)"
   ]
  },
  {
   "cell_type": "code",
   "execution_count": 18,
   "id": "e8f5bb79",
   "metadata": {},
   "outputs": [
    {
     "data": {
      "text/plain": [
       "torch.Size([3, 20])"
      ]
     },
     "execution_count": 18,
     "metadata": {},
     "output_type": "execute_result"
    }
   ],
   "source": [
    "h.shape"
   ]
  },
  {
   "cell_type": "markdown",
   "id": "58595c6d",
   "metadata": {},
   "source": [
    "## 两层栗子"
   ]
  },
  {
   "cell_type": "code",
   "execution_count": 19,
   "id": "be14d56a",
   "metadata": {},
   "outputs": [],
   "source": [
    "cell_l0 = nn.RNNCell(100, 30) #feature_len , hidden_len\n",
    "cell_l1 = nn.RNNCell(30, 20)"
   ]
  },
  {
   "cell_type": "code",
   "execution_count": 23,
   "id": "e429017d",
   "metadata": {},
   "outputs": [],
   "source": [
    "h_l0 = torch.randn(3, 30) #batch, hidden_len\n",
    "h_l1 = torch.randn(3, 20) "
   ]
  },
  {
   "cell_type": "code",
   "execution_count": 24,
   "id": "058683d9",
   "metadata": {},
   "outputs": [],
   "source": [
    "xs = [torch.randn(3, 100) for i in range(10)] #seq_len = 10"
   ]
  },
  {
   "cell_type": "code",
   "execution_count": 26,
   "id": "a249a838",
   "metadata": {},
   "outputs": [],
   "source": [
    "for x in xs:\n",
    "    h_l0 = cell_l0(x, h_l0)\n",
    "    h_l1 = cell_l1(h_l0, h_l1)"
   ]
  },
  {
   "cell_type": "code",
   "execution_count": 27,
   "id": "25e4ff20",
   "metadata": {},
   "outputs": [
    {
     "data": {
      "text/plain": [
       "torch.Size([3, 30])"
      ]
     },
     "execution_count": 27,
     "metadata": {},
     "output_type": "execute_result"
    }
   ],
   "source": [
    "h_l0.shape"
   ]
  },
  {
   "cell_type": "code",
   "execution_count": 28,
   "id": "b170f812",
   "metadata": {},
   "outputs": [
    {
     "data": {
      "text/plain": [
       "torch.Size([3, 20])"
      ]
     },
     "execution_count": 28,
     "metadata": {},
     "output_type": "execute_result"
    }
   ],
   "source": [
    "h_l1.shape"
   ]
  },
  {
   "cell_type": "code",
   "execution_count": null,
   "id": "119e717b",
   "metadata": {},
   "outputs": [],
   "source": []
  }
 ],
 "metadata": {
  "kernelspec": {
   "display_name": "Python 3 (ipykernel)",
   "language": "python",
   "name": "python3"
  },
  "language_info": {
   "codemirror_mode": {
    "name": "ipython",
    "version": 3
   },
   "file_extension": ".py",
   "mimetype": "text/x-python",
   "name": "python",
   "nbconvert_exporter": "python",
   "pygments_lexer": "ipython3",
   "version": "3.9.7"
  },
  "toc": {
   "base_numbering": 1,
   "nav_menu": {},
   "number_sections": true,
   "sideBar": true,
   "skip_h1_title": false,
   "title_cell": "Table of Contents",
   "title_sidebar": "Contents",
   "toc_cell": false,
   "toc_position": {},
   "toc_section_display": true,
   "toc_window_display": false
  },
  "varInspector": {
   "cols": {
    "lenName": 16,
    "lenType": 16,
    "lenVar": 40
   },
   "kernels_config": {
    "python": {
     "delete_cmd_postfix": "",
     "delete_cmd_prefix": "del ",
     "library": "var_list.py",
     "varRefreshCmd": "print(var_dic_list())"
    },
    "r": {
     "delete_cmd_postfix": ") ",
     "delete_cmd_prefix": "rm(",
     "library": "var_list.r",
     "varRefreshCmd": "cat(var_dic_list()) "
    }
   },
   "types_to_exclude": [
    "module",
    "function",
    "builtin_function_or_method",
    "instance",
    "_Feature"
   ],
   "window_display": false
  }
 },
 "nbformat": 4,
 "nbformat_minor": 5
}
