{
 "cells": [
  {
   "cell_type": "markdown",
   "id": "d0ca9ed3",
   "metadata": {},
   "source": [
    "# 使用jieba分词"
   ]
  },
  {
   "cell_type": "code",
   "execution_count": 1,
   "id": "8986db71",
   "metadata": {},
   "outputs": [],
   "source": [
    "import jieba"
   ]
  },
  {
   "cell_type": "code",
   "execution_count": 2,
   "id": "fb09b51d",
   "metadata": {},
   "outputs": [],
   "source": [
    "content = '工信处女干事每月经过下属科室都要亲口交代24口交换机等技术性器件的安装工作'"
   ]
  },
  {
   "cell_type": "code",
   "execution_count": 3,
   "id": "0d8b7c93",
   "metadata": {},
   "outputs": [
    {
     "data": {
      "text/plain": [
       "<generator object Tokenizer.cut at 0x0000026D27A4D2E0>"
      ]
     },
     "execution_count": 3,
     "metadata": {},
     "output_type": "execute_result"
    }
   ],
   "source": [
    "#返回一个生成器对象\n",
    "jieba.cut(content,cut_all=False)"
   ]
  },
  {
   "cell_type": "code",
   "execution_count": 4,
   "id": "e22f5f81",
   "metadata": {},
   "outputs": [
    {
     "name": "stderr",
     "output_type": "stream",
     "text": [
      "Building prefix dict from the default dictionary ...\n",
      "Loading model from cache C:\\Users\\HP\\AppData\\Local\\Temp\\jieba.cache\n",
      "Loading model cost 0.323 seconds.\n",
      "Prefix dict has been built successfully.\n"
     ]
    },
    {
     "data": {
      "text/plain": [
       "['工信处',\n",
       " '女干事',\n",
       " '每月',\n",
       " '经过',\n",
       " '下属',\n",
       " '科室',\n",
       " '都',\n",
       " '要',\n",
       " '亲口',\n",
       " '交代',\n",
       " '24',\n",
       " '口',\n",
       " '交换机',\n",
       " '等',\n",
       " '技术性',\n",
       " '器件',\n",
       " '的',\n",
       " '安装',\n",
       " '工作']"
      ]
     },
     "execution_count": 4,
     "metadata": {},
     "output_type": "execute_result"
    }
   ],
   "source": [
    "#精准模式生词  试图将句子最精确地切开，适合文本分析.\n",
    "jieba.lcut(content, cut_all=False)"
   ]
  },
  {
   "cell_type": "code",
   "execution_count": 5,
   "id": "87ef87e3",
   "metadata": {},
   "outputs": [
    {
     "data": {
      "text/plain": [
       "<generator object Tokenizer.cut at 0x0000026D2BD5F2E0>"
      ]
     },
     "execution_count": 5,
     "metadata": {},
     "output_type": "execute_result"
    }
   ],
   "source": [
    "#全模式生词 把句子中所有的可以成词的词语都扫描出来, 速度非常快，但是不能消除 歧义\n",
    "jieba.cut(content,cut_all=True)"
   ]
  },
  {
   "cell_type": "code",
   "execution_count": 6,
   "id": "f93940f7",
   "metadata": {},
   "outputs": [
    {
     "data": {
      "text/plain": [
       "['工信处',\n",
       " '处女',\n",
       " '女干事',\n",
       " '干事',\n",
       " '每月',\n",
       " '月经',\n",
       " '经过',\n",
       " '下属',\n",
       " '科室',\n",
       " '都',\n",
       " '要',\n",
       " '亲口',\n",
       " '口交',\n",
       " '交代',\n",
       " '24',\n",
       " '口交',\n",
       " '交换',\n",
       " '交换机',\n",
       " '换机',\n",
       " '等',\n",
       " '技术',\n",
       " '技术性',\n",
       " '性器',\n",
       " '器件',\n",
       " '的',\n",
       " '安装',\n",
       " '安装工',\n",
       " '装工',\n",
       " '工作']"
      ]
     },
     "execution_count": 6,
     "metadata": {},
     "output_type": "execute_result"
    }
   ],
   "source": [
    "jieba.lcut(content, cut_all=True)"
   ]
  },
  {
   "cell_type": "code",
   "execution_count": 7,
   "id": "5f6805c0",
   "metadata": {},
   "outputs": [
    {
     "data": {
      "text/plain": [
       "<generator object Tokenizer.cut_for_search at 0x0000026D2BD5F890>"
      ]
     },
     "execution_count": 7,
     "metadata": {},
     "output_type": "execute_result"
    }
   ],
   "source": [
    "#搜索引擎模式分词 在精确模式的基础上，对长词再次切分，提高召回率，适合用于搜索引擎分词.\n",
    "jieba.cut_for_search(content)"
   ]
  },
  {
   "cell_type": "code",
   "execution_count": 8,
   "id": "d0f6b049",
   "metadata": {},
   "outputs": [
    {
     "data": {
      "text/plain": [
       "['工信处',\n",
       " '干事',\n",
       " '女干事',\n",
       " '每月',\n",
       " '经过',\n",
       " '下属',\n",
       " '科室',\n",
       " '都',\n",
       " '要',\n",
       " '亲口',\n",
       " '交代',\n",
       " '24',\n",
       " '口',\n",
       " '交换',\n",
       " '换机',\n",
       " '交换机',\n",
       " '等',\n",
       " '技术',\n",
       " '技术性',\n",
       " '器件',\n",
       " '的',\n",
       " '安装',\n",
       " '工作']"
      ]
     },
     "execution_count": 8,
     "metadata": {},
     "output_type": "execute_result"
    }
   ],
   "source": [
    "jieba.lcut_for_search(content)"
   ]
  },
  {
   "cell_type": "code",
   "execution_count": 9,
   "id": "a4363473",
   "metadata": {},
   "outputs": [
    {
     "data": {
      "text/plain": [
       "['煩惱', '即', '是', '菩提', '，', '我', '暫且', '不', '提']"
      ]
     },
     "execution_count": 9,
     "metadata": {},
     "output_type": "execute_result"
    }
   ],
   "source": [
    "#中文繁体分词\n",
    "content1 = '煩惱即是菩提，我暫且不提'\n",
    "jieba.lcut(content1)"
   ]
  },
  {
   "cell_type": "code",
   "execution_count": 10,
   "id": "ad13f4c1",
   "metadata": {},
   "outputs": [],
   "source": [
    "# 使用用户自定义词典:\n",
    "# 添加自定义词典后, jieba能够准确识别词典中出现的词汇，提升整体的识别准确率.\n",
    "# 词典格式: 每一行分三部分：词语、词频（可省略）、词性（可省略），用空格隔开，顺序不可颠倒.\n",
    "# 词典样式如下, 具体词性含义请参照附录: jieba词性对照表, 将该词典存为userdict.txt, 方便之后加载使用."
   ]
  },
  {
   "cell_type": "code",
   "execution_count": 11,
   "id": "7d59795c",
   "metadata": {},
   "outputs": [
    {
     "data": {
      "text/plain": [
       "['八', '一双', '鹿', '更名', '为', '八一', '南昌', '篮球队']"
      ]
     },
     "execution_count": 11,
     "metadata": {},
     "output_type": "execute_result"
    }
   ],
   "source": [
    "jieba.lcut('八一双鹿更名为八一南昌篮球队')"
   ]
  },
  {
   "cell_type": "code",
   "execution_count": 12,
   "id": "3a162789",
   "metadata": {},
   "outputs": [],
   "source": [
    "jieba.load_userdict('./userdict.txt')"
   ]
  },
  {
   "cell_type": "code",
   "execution_count": 13,
   "id": "2bd6631e",
   "metadata": {},
   "outputs": [
    {
     "data": {
      "text/plain": [
       "['八一双鹿', '更名', '为', '八一', '南昌', '篮球队']"
      ]
     },
     "execution_count": 13,
     "metadata": {},
     "output_type": "execute_result"
    }
   ],
   "source": [
    "jieba.lcut('八一双鹿更名为八一南昌篮球队')"
   ]
  },
  {
   "cell_type": "markdown",
   "id": "929673d6",
   "metadata": {},
   "source": [
    "# 使用hanlp分词"
   ]
  },
  {
   "cell_type": "code",
   "execution_count": 14,
   "id": "1ff6ab9d",
   "metadata": {},
   "outputs": [],
   "source": [
    "import hanlp"
   ]
  },
  {
   "cell_type": "code",
   "execution_count": 24,
   "id": "82561351",
   "metadata": {},
   "outputs": [
    {
     "name": "stderr",
     "output_type": "stream",
     "text": [
      "                                                \r"
     ]
    }
   ],
   "source": [
    "tokensizer = hanlp.load('CTB6_CONVSEG')"
   ]
  },
  {
   "cell_type": "code",
   "execution_count": 16,
   "id": "b0f8b194",
   "metadata": {},
   "outputs": [
    {
     "data": {
      "text/plain": [
       "['工信处',\n",
       " '女',\n",
       " '干事',\n",
       " '每',\n",
       " '月',\n",
       " '经过',\n",
       " '下属',\n",
       " '科室',\n",
       " '都',\n",
       " '要',\n",
       " '亲口',\n",
       " '交代',\n",
       " '24',\n",
       " '口',\n",
       " '交换机',\n",
       " '等',\n",
       " '技术性',\n",
       " '器件',\n",
       " '的',\n",
       " '安装',\n",
       " '工作']"
      ]
     },
     "execution_count": 16,
     "metadata": {},
     "output_type": "execute_result"
    }
   ],
   "source": [
    "tokensizer('工信处女干事每月经过下属科室都要亲口交代24口交换机等技术性器件的安装工作')"
   ]
  },
  {
   "cell_type": "code",
   "execution_count": 18,
   "id": "2f888562",
   "metadata": {},
   "outputs": [
    {
     "ename": "AttributeError",
     "evalue": "module 'hanlp.utils.rules' has no attribute 'tokensize_english'",
     "output_type": "error",
     "traceback": [
      "\u001b[1;31m---------------------------------------------------------------------------\u001b[0m",
      "\u001b[1;31mAttributeError\u001b[0m                            Traceback (most recent call last)",
      "Input \u001b[1;32mIn [18]\u001b[0m, in \u001b[0;36m<module>\u001b[1;34m\u001b[0m\n\u001b[1;32m----> 1\u001b[0m tokensizer \u001b[38;5;241m=\u001b[39m \u001b[43mhanlp\u001b[49m\u001b[38;5;241;43m.\u001b[39;49m\u001b[43mutils\u001b[49m\u001b[38;5;241;43m.\u001b[39;49m\u001b[43mrules\u001b[49m\u001b[38;5;241;43m.\u001b[39;49m\u001b[43mtokensize_english\u001b[49m\n",
      "\u001b[1;31mAttributeError\u001b[0m: module 'hanlp.utils.rules' has no attribute 'tokensize_english'"
     ]
    }
   ],
   "source": [
    "tokensizer = hanlp.utils.rules.tokensize_english"
   ]
  },
  {
   "cell_type": "code",
   "execution_count": 20,
   "id": "b88f351c",
   "metadata": {
    "scrolled": true
   },
   "outputs": [],
   "source": [
    "#使用hanlp进行中文命名实体识别:\n",
    "recognizer = hanlp.load(hanlp.pretrained.ner.MSRA_NER_BERT_BASE_ZH)"
   ]
  },
  {
   "cell_type": "code",
   "execution_count": 21,
   "id": "7b037840",
   "metadata": {},
   "outputs": [
    {
     "data": {
      "text/plain": [
       "[('上海华安工业（集团）公司', 'NT', 0, 12),\n",
       " ('谭旭光', 'NR', 15, 18),\n",
       " ('张晚霞', 'NR', 21, 24),\n",
       " ('美国', 'NS', 26, 28),\n",
       " ('纽约现代艺术博物馆', 'NS', 28, 37)]"
      ]
     },
     "execution_count": 21,
     "metadata": {},
     "output_type": "execute_result"
    }
   ],
   "source": [
    "recognizer(list('上海华安工业（集团）公司董事长谭旭光和秘书张晚霞来到美国纽约现代艺术博物馆参观。'))"
   ]
  },
  {
   "cell_type": "code",
   "execution_count": 23,
   "id": "104c55ab",
   "metadata": {},
   "outputs": [
    {
     "name": "stderr",
     "output_type": "stream",
     "text": [
      "Downloading https://file.hankcs.com/hanlp/ner/ner_conll03_bert_base_cased_en_20211227_121443.zip to C:\\Users\\HP\\AppData\\Roaming\\hanlp\\ner/ner_conll03_bert_base_cased_en_20211227_121443.zip\n",
      "100% 383.3 MiB 197.9 KiB/s ETA:  0 s [=============================================================]\n",
      "Decompressing C:\\Users\\HP\\AppData\\Roaming\\hanlp\\ner/ner_conll03_bert_base_cased_en_20211227_121443.zip to C:\\Users\\HP\\AppData\\Roaming\\hanlp\\ner\n"
     ]
    },
    {
     "data": {
      "application/vnd.jupyter.widget-view+json": {
       "model_id": "1b1772469bcb4cd396afc470cfe64309",
       "version_major": 2,
       "version_minor": 0
      },
      "text/plain": [
       "Downloading:   0%|          | 0.00/29.0 [00:00<?, ?B/s]"
      ]
     },
     "metadata": {},
     "output_type": "display_data"
    },
    {
     "data": {
      "application/vnd.jupyter.widget-view+json": {
       "model_id": "14ad70d048cc4260be489d858750c0c9",
       "version_major": 2,
       "version_minor": 0
      },
      "text/plain": [
       "Downloading:   0%|          | 0.00/570 [00:00<?, ?B/s]"
      ]
     },
     "metadata": {},
     "output_type": "display_data"
    },
    {
     "data": {
      "application/vnd.jupyter.widget-view+json": {
       "model_id": "04c697ce76ca4597aa93bb5da92d091b",
       "version_major": 2,
       "version_minor": 0
      },
      "text/plain": [
       "Downloading:   0%|          | 0.00/208k [00:00<?, ?B/s]"
      ]
     },
     "metadata": {},
     "output_type": "display_data"
    },
    {
     "data": {
      "application/vnd.jupyter.widget-view+json": {
       "model_id": "e337d9750f2d4796884de511e2657507",
       "version_major": 2,
       "version_minor": 0
      },
      "text/plain": [
       "Downloading:   0%|          | 0.00/426k [00:00<?, ?B/s]"
      ]
     },
     "metadata": {},
     "output_type": "display_data"
    },
    {
     "data": {
      "application/vnd.jupyter.widget-view+json": {
       "model_id": "1738077bbb3c4562a3da50af0993491b",
       "version_major": 2,
       "version_minor": 0
      },
      "text/plain": [
       "Downloading:   0%|          | 0.00/502M [00:00<?, ?B/s]"
      ]
     },
     "metadata": {},
     "output_type": "display_data"
    }
   ],
   "source": [
    "#使用hanlp进行英文命名实体识别:\n",
    "recognizer = hanlp.load(hanlp.pretrained.ner.CONLL03_NER_BERT_BASE_CASED_EN)"
   ]
  },
  {
   "cell_type": "code",
   "execution_count": 25,
   "id": "24f6bc64",
   "metadata": {},
   "outputs": [
    {
     "data": {
      "text/plain": [
       "[('Obama', 'PER', 1, 2), ('White House', 'LOC', 6, 8)]"
      ]
     },
     "execution_count": 25,
     "metadata": {},
     "output_type": "execute_result"
    }
   ],
   "source": [
    "recognizer([\"President\", \"Obama\", \"is\", \"speaking\", \"at\", \"the\", \"White\", \"House\"])"
   ]
  },
  {
   "cell_type": "markdown",
   "id": "59372c1d",
   "metadata": {},
   "source": [
    "# 词性标注"
   ]
  },
  {
   "cell_type": "code",
   "execution_count": 26,
   "id": "2b2497c5",
   "metadata": {},
   "outputs": [],
   "source": [
    "import jieba.posseg as pseg"
   ]
  },
  {
   "cell_type": "code",
   "execution_count": 27,
   "id": "ebb81547",
   "metadata": {},
   "outputs": [
    {
     "data": {
      "text/plain": [
       "[pair('我', 'r'), pair('爱', 'v'), pair('北京', 'ns'), pair('天安门', 'ns')]"
      ]
     },
     "execution_count": 27,
     "metadata": {},
     "output_type": "execute_result"
    }
   ],
   "source": [
    "pseg.lcut('我爱北京天安门')"
   ]
  },
  {
   "cell_type": "code",
   "execution_count": null,
   "id": "2cea991b",
   "metadata": {},
   "outputs": [],
   "source": []
  },
  {
   "cell_type": "code",
   "execution_count": null,
   "id": "82485b7b",
   "metadata": {},
   "outputs": [],
   "source": []
  },
  {
   "cell_type": "code",
   "execution_count": null,
   "id": "6e636f47",
   "metadata": {},
   "outputs": [],
   "source": []
  },
  {
   "cell_type": "code",
   "execution_count": null,
   "id": "de16474b",
   "metadata": {},
   "outputs": [],
   "source": []
  }
 ],
 "metadata": {
  "kernelspec": {
   "display_name": "Python 3 (ipykernel)",
   "language": "python",
   "name": "python3"
  },
  "language_info": {
   "codemirror_mode": {
    "name": "ipython",
    "version": 3
   },
   "file_extension": ".py",
   "mimetype": "text/x-python",
   "name": "python",
   "nbconvert_exporter": "python",
   "pygments_lexer": "ipython3",
   "version": "3.9.7"
  },
  "toc": {
   "base_numbering": 1,
   "nav_menu": {},
   "number_sections": true,
   "sideBar": true,
   "skip_h1_title": false,
   "title_cell": "Table of Contents",
   "title_sidebar": "Contents",
   "toc_cell": false,
   "toc_position": {},
   "toc_section_display": true,
   "toc_window_display": false
  },
  "varInspector": {
   "cols": {
    "lenName": 16,
    "lenType": 16,
    "lenVar": 40
   },
   "kernels_config": {
    "python": {
     "delete_cmd_postfix": "",
     "delete_cmd_prefix": "del ",
     "library": "var_list.py",
     "varRefreshCmd": "print(var_dic_list())"
    },
    "r": {
     "delete_cmd_postfix": ") ",
     "delete_cmd_prefix": "rm(",
     "library": "var_list.r",
     "varRefreshCmd": "cat(var_dic_list()) "
    }
   },
   "types_to_exclude": [
    "module",
    "function",
    "builtin_function_or_method",
    "instance",
    "_Feature"
   ],
   "window_display": false
  }
 },
 "nbformat": 4,
 "nbformat_minor": 5
}
