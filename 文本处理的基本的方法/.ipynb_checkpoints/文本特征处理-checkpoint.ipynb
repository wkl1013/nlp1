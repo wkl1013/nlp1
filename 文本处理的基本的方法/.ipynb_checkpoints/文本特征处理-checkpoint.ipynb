{
 "cells": [
  {
   "cell_type": "raw",
   "id": "fe70cd33",
   "metadata": {},
   "source": [
    "学习目标\n",
    "    了解文本特征处理的作用.\n",
    "    掌握实现常见的文本特征处理的具体方法."
   ]
  },
  {
   "cell_type": "raw",
   "id": "17edd59c",
   "metadata": {},
   "source": [
    "文本特征处理的作用:\n",
    "    文本特征处理包括为语料添加具有普适性的文本特征, 如:n-gram特征, 以及对加入特征之后的文本语料进行必要的处理, 如: 长度规范. 这些特征处理工作能够有效的将重要的文本特征加入模型训练中, 增强模型评估指标."
   ]
  },
  {
   "cell_type": "raw",
   "id": "14e51e82",
   "metadata": {},
   "source": [
    "常见的文本特征处理方法:\n",
    "    添加n-gram特征\n",
    "    文本长度规范"
   ]
  },
  {
   "cell_type": "raw",
   "id": "d06f020e",
   "metadata": {},
   "source": [
    "什么是n-gram特征\n",
    "    给定一段文本序列, 其中n个词或字的相邻共现特征即n-gram特征, 常用的n-gram特征是bi-gram和tri-gram特征, 分别对应n为2和3."
   ]
  },
  {
   "cell_type": "raw",
   "id": "56df651b",
   "metadata": {},
   "source": [
    "举个栗子:\n",
    "    假设给定分词列表: [\"是谁\", \"敲动\", \"我心\"]\n",
    "\n",
    "    对应的数值映射列表为: [1, 34, 21]\n",
    "\n",
    "    我们可以认为数值映射列表中的每个数字是词汇特征.\n",
    "\n",
    "    除此之外, 我们还可以把\"是谁\"和\"敲动\"两个词共同出现且相邻也作为一种特征加入到序列列表中,\n",
    "\n",
    "    假设1000就代表\"是谁\"和\"敲动\"共同出现且相邻\n",
    "\n",
    "    此时数值映射列表就变成了包含2-gram特征的特征列表: [1, 34, 21, 1000]\n",
    "\n",
    "    这里的\"是谁\"和\"敲动\"共同出现且相邻就是bi-gram特征中的一个.\n",
    "\n",
    "    \"敲动\"和\"我心\"也是共现且相邻的两个词汇, 因此它们也是bi-gram特征.\n",
    "\n",
    "    假设1001代表\"敲动\"和\"我心\"共同出现且相邻\n",
    "\n",
    "    那么, 最后原始的数值映射列表 [1, 34, 21] 添加了bi-gram特征之后就变成了 [1, 34, 21, 1000, 1001]"
   ]
  },
  {
   "cell_type": "markdown",
   "id": "a8c13198",
   "metadata": {},
   "source": [
    "## 提取n-gram特征:"
   ]
  },
  {
   "cell_type": "code",
   "execution_count": 29,
   "id": "cbdaad23",
   "metadata": {},
   "outputs": [],
   "source": [
    "# 一般n-gram中的n取2或者3, 这里取2为例\n",
    "ngram_range = 2\n",
    "    \n",
    "def create_ngram_set(input_list):\n",
    "    \"\"\"\n",
    "    description: 从数值列表中提取所有的n-gram特征\n",
    "    :param input_list: 输入的数值列表, 可以看作是词汇映射后的列表, \n",
    "                       里面每个数字的取值范围为[1, 25000]\n",
    "    :return: n-gram特征组成的集合\n",
    "\n",
    "    eg:\n",
    "    >>> create_ngram_set([1, 4, 9, 4, 1, 4])\n",
    "    {(4, 9), (4, 1), (1, 4), (9, 4)}\n",
    "    \"\"\" \n",
    "    return set(zip(*[input_list[i:] for i in range(ngram_range)]))"
   ]
  },
  {
   "cell_type": "markdown",
   "id": "1a041d87",
   "metadata": {},
   "source": [
    "## 调用"
   ]
  },
  {
   "cell_type": "code",
   "execution_count": 30,
   "id": "2db4c041",
   "metadata": {},
   "outputs": [
    {
     "name": "stdout",
     "output_type": "stream",
     "text": [
      "{(2, 1), (1, 5), (5, 3), (3, 2), (1, 3)}\n"
     ]
    }
   ],
   "source": [
    "input_list = [1, 3, 2, 1, 5, 3]\n",
    "res = create_ngram_set(input_list)\n",
    "print(res)"
   ]
  },
  {
   "cell_type": "code",
   "execution_count": 31,
   "id": "64adbed3",
   "metadata": {},
   "outputs": [],
   "source": [
    "# 该输入列表的所有bi-gram特征\n",
    "#{(3, 2), (1, 3), (2, 1), (1, 5), (5, 3)}"
   ]
  },
  {
   "cell_type": "markdown",
   "id": "588cabaa",
   "metadata": {},
   "source": [
    "# 文本长度规范及其作用"
   ]
  },
  {
   "cell_type": "raw",
   "id": "ea5926c7",
   "metadata": {},
   "source": [
    "   一般模型的输入需要等尺寸大小的矩阵, 因此在进入模型前需要对每条文本数值映射后的长度进行规范, 此时将根据句子长度分布分析出覆盖绝大多数文本的合理长度, 对超长文本进行截断, 对不足文本进行补齐(一般使用数字0), 这个过程就是文本长度规范."
   ]
  },
  {
   "cell_type": "markdown",
   "id": "b816a294",
   "metadata": {},
   "source": [
    "## 文本长度规范的实现:"
   ]
  },
  {
   "cell_type": "code",
   "execution_count": 40,
   "id": "bb5f40fc",
   "metadata": {},
   "outputs": [],
   "source": [
    "from keras.preprocessing import sequence"
   ]
  },
  {
   "cell_type": "code",
   "execution_count": 41,
   "id": "3ee2d25b",
   "metadata": {},
   "outputs": [],
   "source": [
    "# cutlen根据数据分析中句子长度分布，覆盖90%左右语料的最短长度.\n",
    "# 这里假定cutlen为10\n",
    "cutlen = 10"
   ]
  },
  {
   "cell_type": "code",
   "execution_count": 46,
   "id": "9bda4dc8",
   "metadata": {
    "code_folding": []
   },
   "outputs": [],
   "source": [
    "#padding='post','pre' truncating='post','pre'在前面或者后面，切分或者补全\n",
    "def padding(x_train):\n",
    "    return sequence.pad_sequences(x_train, cutlen, padding='post', truncating='post')\n",
    "    \"\"\"\n",
    "    description: 对输入文本张量进行长度规范\n",
    "    :param x_train: 文本的张量表示, 形如: [[1, 32, 32, 61], [2, 54, 21, 7, 19]]\n",
    "    :return: 进行截断补齐后的文本张量表示  # 使用sequence.pad_sequences即可完成\n",
    "    \"\"\"\n",
    "#     return sequence.pad_sequences(x_train, cutlen)\n"
   ]
  },
  {
   "cell_type": "markdown",
   "id": "ce531ea7",
   "metadata": {},
   "source": [
    "## 调用"
   ]
  },
  {
   "cell_type": "code",
   "execution_count": 47,
   "id": "496ffb66",
   "metadata": {},
   "outputs": [
    {
     "name": "stdout",
     "output_type": "stream",
     "text": [
      "[[ 1 23  5 32 55 63  2 21 78 32]\n",
      " [ 2 32  1 23  1  0  0  0  0  0]]\n"
     ]
    }
   ],
   "source": [
    "# 假定x_train里面有两条文本, 一条长度大于10, 一天小于10\n",
    "x_train = [[1, 23, 5, 32, 55, 63, 2, 21, 78, 32, 23, 1],\n",
    "           [2, 32, 1, 23, 1]]\n",
    "res = padding(x_train)\n",
    "print(res)"
   ]
  },
  {
   "cell_type": "code",
   "execution_count": null,
   "id": "1a128916",
   "metadata": {},
   "outputs": [],
   "source": []
  },
  {
   "cell_type": "code",
   "execution_count": null,
   "id": "0997fa04",
   "metadata": {},
   "outputs": [],
   "source": []
  },
  {
   "cell_type": "code",
   "execution_count": null,
   "id": "4639f226",
   "metadata": {},
   "outputs": [],
   "source": []
  },
  {
   "cell_type": "code",
   "execution_count": null,
   "id": "4b8d1661",
   "metadata": {},
   "outputs": [],
   "source": []
  },
  {
   "cell_type": "code",
   "execution_count": null,
   "id": "ea46df08",
   "metadata": {},
   "outputs": [],
   "source": []
  },
  {
   "cell_type": "code",
   "execution_count": null,
   "id": "82b6bbc7",
   "metadata": {},
   "outputs": [],
   "source": []
  },
  {
   "cell_type": "code",
   "execution_count": null,
   "id": "043bd896",
   "metadata": {},
   "outputs": [],
   "source": []
  }
 ],
 "metadata": {
  "kernelspec": {
   "display_name": "Python 3 (ipykernel)",
   "language": "python",
   "name": "python3"
  },
  "language_info": {
   "codemirror_mode": {
    "name": "ipython",
    "version": 3
   },
   "file_extension": ".py",
   "mimetype": "text/x-python",
   "name": "python",
   "nbconvert_exporter": "python",
   "pygments_lexer": "ipython3",
   "version": "3.9.7"
  },
  "toc": {
   "base_numbering": 1,
   "nav_menu": {},
   "number_sections": true,
   "sideBar": true,
   "skip_h1_title": false,
   "title_cell": "Table of Contents",
   "title_sidebar": "Contents",
   "toc_cell": false,
   "toc_position": {},
   "toc_section_display": true,
   "toc_window_display": false
  },
  "varInspector": {
   "cols": {
    "lenName": 16,
    "lenType": 16,
    "lenVar": 40
   },
   "kernels_config": {
    "python": {
     "delete_cmd_postfix": "",
     "delete_cmd_prefix": "del ",
     "library": "var_list.py",
     "varRefreshCmd": "print(var_dic_list())"
    },
    "r": {
     "delete_cmd_postfix": ") ",
     "delete_cmd_prefix": "rm(",
     "library": "var_list.r",
     "varRefreshCmd": "cat(var_dic_list()) "
    }
   },
   "types_to_exclude": [
    "module",
    "function",
    "builtin_function_or_method",
    "instance",
    "_Feature"
   ],
   "window_display": false
  }
 },
 "nbformat": 4,
 "nbformat_minor": 5
}
