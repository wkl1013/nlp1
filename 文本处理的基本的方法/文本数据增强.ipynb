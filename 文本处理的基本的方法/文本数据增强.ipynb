{
 "cells": [
  {
   "cell_type": "raw",
   "id": "ee2d3839",
   "metadata": {},
   "source": [
    "学习目标\n",
    "    了解文本数据增强的作用.\n",
    "    掌握实现常见的文本数据增强的具体方法."
   ]
  },
  {
   "cell_type": "raw",
   "id": "f64d1966",
   "metadata": {},
   "source": [
    "常见的文本数据增强方法:\n",
    "    回译数据增强法"
   ]
  },
  {
   "cell_type": "raw",
   "id": "97d5fcd6",
   "metadata": {},
   "source": [
    "什么是回译数据增强法\n",
    "    回译数据增强目前是文本数据增强方面效果较好的增强方法, 一般基于google翻译接口, 将文本数据翻译成另外一种语言(一般选择小语种),之后再翻译回原语言, 即可认为得到与与原语料同标签的新语料, 新语料加入到原数据集中即可认为是对原数据集数据增强."
   ]
  },
  {
   "cell_type": "raw",
   "id": "1ec685dc",
   "metadata": {},
   "source": [
    "回译数据增强优势:\n",
    "    操作简便, 获得新语料质量高.\n",
    "回译数据增强存在的问题:\n",
    "    在短文本回译过程中, 新语料与原语料可能存在很高的重复率, 并不能有效增大样本的特征空间.\n",
    "高重复率解决办法:\n",
    "    进行连续的多语言翻译, 如: 中文-->韩文-->日语-->英文-->中文, 根据经验, 最多只采用3次连续翻译, 更多的翻译次数将产生效率低下, 语义失真等问题."
   ]
  },
  {
   "cell_type": "markdown",
   "id": "f3934329",
   "metadata": {},
   "source": [
    "# 回译数据增强实现:"
   ]
  },
  {
   "cell_type": "code",
   "execution_count": 119,
   "id": "a56ccad7",
   "metadata": {},
   "outputs": [],
   "source": [
    "# 假设取两条已经存在的正样本和两条负样本\n",
    "# 将基于这四条样本产生新的同标签的四条样本\n",
    "p_sample1 = '酒店设施非常不错'  \n",
    "p_sample2 = '这家价格很便宜'\n",
    "n_sample1 = '拖鞋发霉了，太差了'\n",
    "n_sample2 = '电视不好用，没看到足球'"
   ]
  },
  {
   "cell_type": "code",
   "execution_count": 120,
   "id": "d26159f0",
   "metadata": {},
   "outputs": [],
   "source": [
    "#导入google翻译接口工具\n",
    "from google_trans_new import google_translator"
   ]
  },
  {
   "cell_type": "code",
   "execution_count": 121,
   "id": "f8720997",
   "metadata": {},
   "outputs": [],
   "source": [
    "#实例化翻译对象\n",
    "translator = google_translator()"
   ]
  },
  {
   "cell_type": "code",
   "execution_count": 122,
   "id": "b22a586e",
   "metadata": {},
   "outputs": [],
   "source": [
    "textlist = [p_sample1, p_sample2, n_sample1, n_sample2]"
   ]
  },
  {
   "cell_type": "code",
   "execution_count": 123,
   "id": "6b459782",
   "metadata": {},
   "outputs": [
    {
     "data": {
      "text/plain": [
       "list"
      ]
     },
     "execution_count": 123,
     "metadata": {},
     "output_type": "execute_result"
    }
   ],
   "source": [
    "type(textlist)"
   ]
  },
  {
   "cell_type": "code",
   "execution_count": 124,
   "id": "d362c70e",
   "metadata": {},
   "outputs": [],
   "source": [
    "translations = []\n",
    "for text in textlist:\n",
    "    translation = translator.translate(text, lang_src='zh-cn', lang_tgt='ko')\n",
    "    translations.append(translation)"
   ]
  },
  {
   "cell_type": "code",
   "execution_count": 125,
   "id": "fb4e2336",
   "metadata": {},
   "outputs": [],
   "source": [
    "ko_res = translations"
   ]
  },
  {
   "cell_type": "code",
   "execution_count": 126,
   "id": "07b27752",
   "metadata": {},
   "outputs": [
    {
     "name": "stdout",
     "output_type": "stream",
     "text": [
      "中间翻译结果： \n",
      "['호텔 시설은 아주 좋습니다 ', '이 가격은 매우 쌉니다 ', '슬리퍼는 곰팡이이며, 너무 나쁩니다. ', 'TV는 사용하기 쉽지 않고 축구를 보지 못했습니다. ']\n"
     ]
    }
   ],
   "source": [
    "#打印结果\n",
    "print('中间翻译结果： ')\n",
    "print(ko_res)"
   ]
  },
  {
   "cell_type": "code",
   "execution_count": 127,
   "id": "e9d04192",
   "metadata": {},
   "outputs": [
    {
     "name": "stdout",
     "output_type": "stream",
     "text": [
      "回译得到的增强数据:\n",
      "['酒店设施非常好'，'这个价格很便宜，'，'拖鞋是模具的，太糟糕了。 '，'电视不容易使用，没有看到足球。 '] \n"
     ]
    },
    {
     "data": {
      "text/plain": [
       "[]"
      ]
     },
     "execution_count": 127,
     "metadata": {},
     "output_type": "execute_result"
    }
   ],
   "source": [
    "# 最后在翻译回中文, 完成回译全部流程\n",
    "translations = translator.translate(ko_res, lang_tgt='zh-cn')\n",
    "cn_res = translations\n",
    "print(\"回译得到的增强数据:\")\n",
    "print(cn_res)\n",
    "list()"
   ]
  },
  {
   "cell_type": "code",
   "execution_count": null,
   "id": "613caa85",
   "metadata": {},
   "outputs": [],
   "source": []
  },
  {
   "cell_type": "code",
   "execution_count": null,
   "id": "ef4085dc",
   "metadata": {},
   "outputs": [],
   "source": []
  },
  {
   "cell_type": "code",
   "execution_count": null,
   "id": "567d2a50",
   "metadata": {},
   "outputs": [],
   "source": []
  },
  {
   "cell_type": "code",
   "execution_count": null,
   "id": "d1fc0dd4",
   "metadata": {},
   "outputs": [],
   "source": []
  },
  {
   "cell_type": "code",
   "execution_count": null,
   "id": "bd7c4b1d",
   "metadata": {},
   "outputs": [],
   "source": []
  },
  {
   "cell_type": "code",
   "execution_count": null,
   "id": "47b4e9fa",
   "metadata": {},
   "outputs": [],
   "source": []
  }
 ],
 "metadata": {
  "kernelspec": {
   "display_name": "Python 3 (ipykernel)",
   "language": "python",
   "name": "python3"
  },
  "language_info": {
   "codemirror_mode": {
    "name": "ipython",
    "version": 3
   },
   "file_extension": ".py",
   "mimetype": "text/x-python",
   "name": "python",
   "nbconvert_exporter": "python",
   "pygments_lexer": "ipython3",
   "version": "3.9.7"
  },
  "toc": {
   "base_numbering": 1,
   "nav_menu": {},
   "number_sections": true,
   "sideBar": true,
   "skip_h1_title": false,
   "title_cell": "Table of Contents",
   "title_sidebar": "Contents",
   "toc_cell": false,
   "toc_position": {},
   "toc_section_display": true,
   "toc_window_display": false
  },
  "varInspector": {
   "cols": {
    "lenName": 16,
    "lenType": 16,
    "lenVar": 40
   },
   "kernels_config": {
    "python": {
     "delete_cmd_postfix": "",
     "delete_cmd_prefix": "del ",
     "library": "var_list.py",
     "varRefreshCmd": "print(var_dic_list())"
    },
    "r": {
     "delete_cmd_postfix": ") ",
     "delete_cmd_prefix": "rm(",
     "library": "var_list.r",
     "varRefreshCmd": "cat(var_dic_list()) "
    }
   },
   "types_to_exclude": [
    "module",
    "function",
    "builtin_function_or_method",
    "instance",
    "_Feature"
   ],
   "window_display": false
  }
 },
 "nbformat": 4,
 "nbformat_minor": 5
}
